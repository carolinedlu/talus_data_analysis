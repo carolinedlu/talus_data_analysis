{
 "cells": [
  {
   "cell_type": "code",
   "execution_count": null,
   "metadata": {},
   "outputs": [],
   "source": [
    "%load_ext autoreload\n",
    "%autoreload 2"
   ]
  },
  {
   "cell_type": "code",
   "execution_count": null,
   "metadata": {},
   "outputs": [],
   "source": [
    "import sys\n",
    "sys.path.append('..')"
   ]
  },
  {
   "cell_type": "code",
   "execution_count": null,
   "metadata": {},
   "outputs": [],
   "source": [
    "from talus_data_analysis.plot import histogram\n",
    "from talus_data_analysis.elib import Elib\n",
    "from talus_data_analysis.load import read_excel_from_gdrive, read_df_from_s3\n",
    "from talus_data_analysis.save import write_df_to_s3\n",
    "from dotenv import load_dotenv\n",
    "import tempfile\n",
    "import sqlite3\n",
    "import math\n",
    "import pandas as pd\n",
    "from pydrive.auth import GoogleAuth\n",
    "from pydrive.drive import GoogleDrive"
   ]
  },
  {
   "cell_type": "code",
   "execution_count": null,
   "metadata": {},
   "outputs": [],
   "source": [
    "load_dotenv()"
   ]
  },
  {
   "cell_type": "code",
   "execution_count": null,
   "metadata": {},
   "outputs": [],
   "source": [
    "gauth = GoogleAuth(settings_file=\"../settings.yaml\")"
   ]
  },
  {
   "cell_type": "code",
   "execution_count": null,
   "metadata": {},
   "outputs": [],
   "source": [
    "ENCYCLOPEDIA_BUCKET = \"talus-data-pipeline-encyclopedia-bucket\"\n",
    "DATA_FOLDER = \"../data/210525_BJ\"\n",
    "S3_FOLDER = \"wide/210525_BJ\"\n",
    "PROJECT_NAME = \"Dalal Contract\"\n",
    "\n",
    "ELIB_FILE = \"RESULTS-quant.elib\"\n",
    "peptide_protein_file = \"peptide_proteins_results.csv\"\n",
    "peptide_protein_norm_output = \"peptide_proteins_normalized.csv\"\n",
    "msstats_groupcompare_output = \"msstats_groupcompare.csv\"\n",
    "comparison_matrix_file = \"comparison_matrix.csv\""
   ]
  },
  {
   "cell_type": "code",
   "execution_count": null,
   "metadata": {},
   "outputs": [],
   "source": [
    "peptide_df = read_df_from_s3(bucket=ENCYCLOPEDIA_BUCKET, key=f\"{S3_FOLDER}/RESULTS-quant.elib.peptides.txt\", inputformat=\"txt\")\n",
    "peptide_df = peptide_df.drop(\"numFragments\", axis=1)\n",
    "# make sure there is one protein per column\n",
    "peptide_df = peptide_df.drop(\"Protein\", axis=1).join(peptide_df[\"Protein\"].str.split(\";\", expand=True).stack().reset_index(drop=True, level=1).rename(\"Protein\"))\n",
    "# melt the dataframe so that each source file is in a seperate row instead of column\n",
    "peptide_df = peptide_df.melt(id_vars=[\"Peptide\", \"Protein\"], var_name=\"SourceFile\", value_name=\"TotalIntensity\")\n",
    "peptide_df[\"Run\"] = peptide_df[\"SourceFile\"].apply(lambda x: x.split(\".\")[0].split(\"_\")[-1])"
   ]
  },
  {
   "cell_type": "code",
   "execution_count": null,
   "metadata": {},
   "outputs": [],
   "source": [
    "peptide_df"
   ]
  },
  {
   "cell_type": "markdown",
   "metadata": {},
   "source": [
    "## Template DF"
   ]
  },
  {
   "cell_type": "code",
   "execution_count": null,
   "metadata": {},
   "outputs": [],
   "source": [
    "sample_df = pd.read_excel(\"~/Downloads/MS_samples_May2021.xlsx\")\n",
    "sample_df = sample_df[(sample_df[\"Project\"] == PROJECT_NAME) & (sample_df[\"Sample Description\"] != \"Pooled Sample\")]\n",
    "sample_df[\"Run\"] = sample_df[\"Run ID\"].apply(lambda x: x.split(\"_\")[-1])\n",
    "sample_df = sample_df.rename(columns={\"Sample Name\": \"BioReplicate\", \"Sample Description\": \"Condition\"})\n",
    "sample_df = sample_df[[\"Run\", \"BioReplicate\", \"Condition\", \"Comparison\"]]"
   ]
  },
  {
   "cell_type": "code",
   "execution_count": null,
   "metadata": {},
   "outputs": [],
   "source": [
    "sample_df"
   ]
  },
  {
   "cell_type": "code",
   "execution_count": null,
   "metadata": {},
   "outputs": [],
   "source": [
    "msstats_df = pd.merge(peptide_df, sample_df, how=\"right\", on=\"Run\")"
   ]
  },
  {
   "cell_type": "code",
   "execution_count": null,
   "metadata": {},
   "outputs": [],
   "source": [
    "msstats_df"
   ]
  },
  {
   "cell_type": "code",
   "execution_count": null,
   "metadata": {},
   "outputs": [],
   "source": [
    "## Add a few required columns and rename header to match MSstats convention\n",
    "msstats_df = msstats_df.drop([\"Run\", \"Comparison\"], axis=1)\n",
    "msstats_df[\"PrecursorCharge\"] = 2\n",
    "msstats_df[\"IsotopeLabelType\"] = \"L\"\n",
    "msstats_df[\"FragmentIon\"] = \"y0\"\n",
    "msstats_df[\"ProductCharge\"] = \"1\"\n",
    "msstats_df = msstats_df.rename(columns={\"Peptide\": \"PeptideSequence\",\n",
    "                                        \"Protein\": \"ProteinName\",\n",
    "                                        \"SourceFile\": \"Run\",\n",
    "                                        \"TotalIntensity\": \"Intensity\"})\n",
    "msstats_df = msstats_df.drop_duplicates()"
   ]
  },
  {
   "cell_type": "code",
   "execution_count": null,
   "metadata": {},
   "outputs": [],
   "source": [
    "msstats_df = msstats_df.sort_values(by=[\"PeptideSequence\", \"Intensity\"]).reset_index(drop=True)"
   ]
  },
  {
   "cell_type": "code",
   "execution_count": null,
   "metadata": {},
   "outputs": [],
   "source": [
    "msstats_df"
   ]
  },
  {
   "cell_type": "code",
   "execution_count": null,
   "metadata": {},
   "outputs": [],
   "source": [
    "msstats_df.to_csv(f\"{DATA_FOLDER}/{peptide_protein_file}\")"
   ]
  },
  {
   "cell_type": "code",
   "execution_count": null,
   "metadata": {},
   "outputs": [],
   "source": [
    "write_df_to_s3(dataframe=msstats_df, bucket=ENCYCLOPEDIA_BUCKET, key=f\"{S3_FOLDER}/{peptide_protein_file.replace('.csv', '.parquet')}\", outputformat=\"parquet\")"
   ]
  },
  {
   "cell_type": "code",
   "execution_count": null,
   "metadata": {},
   "outputs": [],
   "source": [
    "def get_comparison_matrix(df, filter_target_func=lambda x:x):\n",
    "    df = df.sort_values(by=\"Condition\")\n",
    "    dmso_map = {condition: dmso for (condition, dmso) in zip(df[\"Condition\"], df[\"Comparison\"])}\n",
    "    \n",
    "    comp_lol = []\n",
    "    targets = sorted(dmso_map.keys())\n",
    "    comp_df_index = []\n",
    "    for i, s in enumerate(targets):\n",
    "        comp_list = [0 for t in targets]\n",
    "        if dmso_map[s] in dmso_map:\n",
    "            # make dmso 0\n",
    "            comp_list[targets.index(dmso_map[s])] = -1\n",
    "            # make target itself 1\n",
    "            comp_list[i] = 1\n",
    "\n",
    "            comp_lol.append(comp_list)\n",
    "            comp_df_index.append(f\"{filter_target_func(s)}/{dmso_map[s]}\")\n",
    "\n",
    "    comp_df = pd.DataFrame(comp_lol)\n",
    "    comp_df.index = comp_df_index\n",
    "    \n",
    "    return comp_df"
   ]
  },
  {
   "cell_type": "code",
   "execution_count": null,
   "metadata": {},
   "outputs": [],
   "source": [
    "comp_matrix = get_comparison_matrix(df=sample_df, filter_target_func=lambda x: x.split(\" - \")[0])"
   ]
  },
  {
   "cell_type": "code",
   "execution_count": null,
   "metadata": {},
   "outputs": [],
   "source": [
    "comp_matrix"
   ]
  },
  {
   "cell_type": "code",
   "execution_count": null,
   "metadata": {},
   "outputs": [],
   "source": [
    "comp_matrix.to_csv(f\"{DATA_FOLDER}/{comparison_matrix_file}\")"
   ]
  },
  {
   "cell_type": "markdown",
   "metadata": {},
   "source": [
    "# Run R Script (MSStats) ..."
   ]
  },
  {
   "cell_type": "markdown",
   "metadata": {},
   "source": [
    "## Write msstats normalized peptide protein df to s3"
   ]
  },
  {
   "cell_type": "code",
   "execution_count": null,
   "metadata": {},
   "outputs": [],
   "source": [
    "msstats_df_norm = pd.read_csv(f\"{DATA_FOLDER}/{peptide_protein_norm_output}\")"
   ]
  },
  {
   "cell_type": "code",
   "execution_count": null,
   "metadata": {},
   "outputs": [],
   "source": [
    "msstats_df_norm"
   ]
  },
  {
   "cell_type": "code",
   "execution_count": null,
   "metadata": {},
   "outputs": [],
   "source": [
    "write_df_to_s3(dataframe=msstats_df_norm, bucket=ENCYCLOPEDIA_BUCKET, key=f\"{S3_FOLDER}/{peptide_protein_norm_output.replace('.csv', '.parquet')}\", outputformat=\"parquet\")"
   ]
  },
  {
   "cell_type": "markdown",
   "metadata": {},
   "source": [
    "## Write msstats groupcompare df to s3"
   ]
  },
  {
   "cell_type": "code",
   "execution_count": null,
   "metadata": {},
   "outputs": [],
   "source": [
    "msstats_groupcompare = pd.read_csv(f\"{DATA_FOLDER}/{msstats_groupcompare_output}\")"
   ]
  },
  {
   "cell_type": "code",
   "execution_count": null,
   "metadata": {},
   "outputs": [],
   "source": [
    "msstats_groupcompare[msstats_groupcompare[\"adj.pvalue\"] > 0]"
   ]
  },
  {
   "cell_type": "code",
   "execution_count": null,
   "metadata": {},
   "outputs": [],
   "source": [
    "write_df_to_s3(dataframe=msstats_groupcompare, bucket=ENCYCLOPEDIA_BUCKET, key=f\"{S3_FOLDER}/{msstats_groupcompare_output.replace('.csv', '.parquet')}\", outputformat=\"parquet\")"
   ]
  },
  {
   "cell_type": "code",
   "execution_count": null,
   "metadata": {},
   "outputs": [],
   "source": []
  }
 ],
 "metadata": {
  "kernelspec": {
   "display_name": "talus_data_analysis",
   "language": "python",
   "name": "talus_data_analysis"
  },
  "language_info": {
   "codemirror_mode": {
    "name": "ipython",
    "version": 3
   },
   "file_extension": ".py",
   "mimetype": "text/x-python",
   "name": "python",
   "nbconvert_exporter": "python",
   "pygments_lexer": "ipython3",
   "version": "3.8.5"
  }
 },
 "nbformat": 4,
 "nbformat_minor": 4
}
