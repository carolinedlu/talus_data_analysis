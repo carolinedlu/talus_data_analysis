{
 "cells": [
  {
   "cell_type": "code",
   "execution_count": 132,
   "metadata": {},
   "outputs": [],
   "source": [
    "import time\n",
    "import pandas as pd\n",
    "import base64\n",
    "import random\n",
    "import requests\n",
    "import json\n",
    "from urllib.parse import urlencode\n",
    "from IPython.core.display import HTML \n",
    "from xml.sax import saxutils\n",
    "from functools import lru_cache\n",
    "from svgpathtools import svg2paths"
   ]
  },
  {
   "cell_type": "code",
   "execution_count": 162,
   "metadata": {},
   "outputs": [],
   "source": [
    "FILENAME = \"qvina02_all\""
   ]
  },
  {
   "cell_type": "code",
   "execution_count": 163,
   "metadata": {},
   "outputs": [],
   "source": [
    "with open(f\"../data/{FILENAME}.txt\", \"r\") as f:\n",
    "    ligand_list = f.read().split(\"\\n\")\n",
    "    columns = [\"Collection\", \"Ligand\", \"Highest-Score\", \"NA\"]\n",
    "    ligand_list = [ligand.strip().split() for ligand in ligand_list]\n",
    "    ligand_df = pd.DataFrame(ligand_list, columns=columns)\n",
    "#     ligand_df = ligand_df.rename(columns=ligand_df.iloc[0]).drop(ligand_df.index[0])"
   ]
  },
  {
   "cell_type": "code",
   "execution_count": 164,
   "metadata": {},
   "outputs": [],
   "source": [
    "with open(\"../data/ligands.txt\", \"r\") as f:\n",
    "    ligands_smiles = f.read().split(\"\\n\")\n",
    "    columns = [\"Ligand\", \"Smiles\"]\n",
    "    ligands_smiles = [l for l in ligands_smiles if l]\n",
    "    ligands_smiles = list(zip(ligands_smiles[::2], ligands_smiles[1::2]))\n",
    "    ligands_smiles_df = pd.DataFrame(ligands_smiles, columns=columns)\n",
    "    ligands_smiles_df = ligands_smiles_df.drop_duplicates()"
   ]
  },
  {
   "cell_type": "code",
   "execution_count": 165,
   "metadata": {},
   "outputs": [],
   "source": [
    "ligand_df = ligand_df.merge(ligands_smiles_df, how=\"left\", on=\"Ligand\")"
   ]
  },
  {
   "cell_type": "code",
   "execution_count": 166,
   "metadata": {},
   "outputs": [
    {
     "data": {
      "text/html": [
       "<div>\n",
       "<style scoped>\n",
       "    .dataframe tbody tr th:only-of-type {\n",
       "        vertical-align: middle;\n",
       "    }\n",
       "\n",
       "    .dataframe tbody tr th {\n",
       "        vertical-align: top;\n",
       "    }\n",
       "\n",
       "    .dataframe thead th {\n",
       "        text-align: right;\n",
       "    }\n",
       "</style>\n",
       "<table border=\"1\" class=\"dataframe\">\n",
       "  <thead>\n",
       "    <tr style=\"text-align: right;\">\n",
       "      <th></th>\n",
       "      <th>Collection</th>\n",
       "      <th>Ligand</th>\n",
       "      <th>Highest-Score</th>\n",
       "      <th>NA</th>\n",
       "      <th>Smiles</th>\n",
       "    </tr>\n",
       "  </thead>\n",
       "  <tbody>\n",
       "    <tr>\n",
       "      <th>0</th>\n",
       "      <td>JBDDDG_00000</td>\n",
       "      <td>PV-001829600218_1_T1</td>\n",
       "      <td>-7.7</td>\n",
       "      <td>1</td>\n",
       "      <td>C[C@@]1(N=C(O)NC1=O)C1=CC=CC(=C1)C(=O)NCCC(=O)...</td>\n",
       "    </tr>\n",
       "    <tr>\n",
       "      <th>1</th>\n",
       "      <td>JBDDCG_00000</td>\n",
       "      <td>PV-001836769525_1_T1</td>\n",
       "      <td>-7.5</td>\n",
       "      <td>1</td>\n",
       "      <td>OC1=NC2(CCCC2)C(=O)N1CC(=O)NNC(=O)CN1CCN(CC1)C...</td>\n",
       "    </tr>\n",
       "    <tr>\n",
       "      <th>2</th>\n",
       "      <td>JBDDCG_00000</td>\n",
       "      <td>PV-001872914269_1_T1</td>\n",
       "      <td>-7.4</td>\n",
       "      <td>1</td>\n",
       "      <td>OC1(CNC(=O)c2cccc(c2)S(=O)(=O)N2CCNC(=O)C2)CCC...</td>\n",
       "    </tr>\n",
       "    <tr>\n",
       "      <th>3</th>\n",
       "      <td>JBDDDG_00000</td>\n",
       "      <td>PV-001829600017_2_T3</td>\n",
       "      <td>-7.4</td>\n",
       "      <td>1</td>\n",
       "      <td>C[C@]1(NC(=O)N=C1O)C1=CC=C(C=C1)C(=O)NCCC(=O)N...</td>\n",
       "    </tr>\n",
       "    <tr>\n",
       "      <th>4</th>\n",
       "      <td>JBDDCG_00000</td>\n",
       "      <td>PV-001850780878_2_T1</td>\n",
       "      <td>-7.3</td>\n",
       "      <td>1</td>\n",
       "      <td>OC1=C(C(=O)NNC(=O)CCN2CCN(CC2)C(=O)[C@H]2CCCO2...</td>\n",
       "    </tr>\n",
       "    <tr>\n",
       "      <th>...</th>\n",
       "      <td>...</td>\n",
       "      <td>...</td>\n",
       "      <td>...</td>\n",
       "      <td>...</td>\n",
       "      <td>...</td>\n",
       "    </tr>\n",
       "    <tr>\n",
       "      <th>37597</th>\n",
       "      <td>JBFCFG_00000</td>\n",
       "      <td>PV-002008653608_2_T1</td>\n",
       "      <td>-3.5</td>\n",
       "      <td>1</td>\n",
       "      <td>C[C@@H](NS(C)(=O)=O)c1nnc(N2CCC(CC2)S(C)(=O)=O...</td>\n",
       "    </tr>\n",
       "    <tr>\n",
       "      <th>37598</th>\n",
       "      <td>JBFCFG_00001</td>\n",
       "      <td>PV-002041695183_4_T1</td>\n",
       "      <td>-3.5</td>\n",
       "      <td>1</td>\n",
       "      <td>COCC[C@@](C)(O)Cn1c(nnc1N1CCN(CC1)C(=O)[C@@H]1...</td>\n",
       "    </tr>\n",
       "    <tr>\n",
       "      <th>37599</th>\n",
       "      <td>JBEAEG_00000</td>\n",
       "      <td>PV-001939926551_1_T1</td>\n",
       "      <td>-3.4</td>\n",
       "      <td>1</td>\n",
       "      <td>COCCN(CCOC)S(=O)(=O)N1CCN([C@H]2CS(=O)(=O)C[C@...</td>\n",
       "    </tr>\n",
       "    <tr>\n",
       "      <th>37600</th>\n",
       "      <td>JBFCEG_00003</td>\n",
       "      <td>PV-002035337131_7_T1</td>\n",
       "      <td>-3.3</td>\n",
       "      <td>1</td>\n",
       "      <td>CNC(=O)[C@]1(C)CCN(C1)c1nnc([C@@H](C)OCCOC)n1C...</td>\n",
       "    </tr>\n",
       "    <tr>\n",
       "      <th>37601</th>\n",
       "      <td>JBEADF_00000</td>\n",
       "      <td>PV-001919760152_2_T1</td>\n",
       "      <td>-3.2</td>\n",
       "      <td>1</td>\n",
       "      <td>COC(=O)C=C1SCC(=O)N1CCCN1CCN(CC1)S(=O)(=O)N=S(...</td>\n",
       "    </tr>\n",
       "  </tbody>\n",
       "</table>\n",
       "<p>37602 rows × 5 columns</p>\n",
       "</div>"
      ],
      "text/plain": [
       "         Collection                Ligand Highest-Score NA  \\\n",
       "0      JBDDDG_00000  PV-001829600218_1_T1          -7.7  1   \n",
       "1      JBDDCG_00000  PV-001836769525_1_T1          -7.5  1   \n",
       "2      JBDDCG_00000  PV-001872914269_1_T1          -7.4  1   \n",
       "3      JBDDDG_00000  PV-001829600017_2_T3          -7.4  1   \n",
       "4      JBDDCG_00000  PV-001850780878_2_T1          -7.3  1   \n",
       "...             ...                   ...           ... ..   \n",
       "37597  JBFCFG_00000  PV-002008653608_2_T1          -3.5  1   \n",
       "37598  JBFCFG_00001  PV-002041695183_4_T1          -3.5  1   \n",
       "37599  JBEAEG_00000  PV-001939926551_1_T1          -3.4  1   \n",
       "37600  JBFCEG_00003  PV-002035337131_7_T1          -3.3  1   \n",
       "37601  JBEADF_00000  PV-001919760152_2_T1          -3.2  1   \n",
       "\n",
       "                                                  Smiles  \n",
       "0      C[C@@]1(N=C(O)NC1=O)C1=CC=CC(=C1)C(=O)NCCC(=O)...  \n",
       "1      OC1=NC2(CCCC2)C(=O)N1CC(=O)NNC(=O)CN1CCN(CC1)C...  \n",
       "2      OC1(CNC(=O)c2cccc(c2)S(=O)(=O)N2CCNC(=O)C2)CCC...  \n",
       "3      C[C@]1(NC(=O)N=C1O)C1=CC=C(C=C1)C(=O)NCCC(=O)N...  \n",
       "4      OC1=C(C(=O)NNC(=O)CCN2CCN(CC2)C(=O)[C@H]2CCCO2...  \n",
       "...                                                  ...  \n",
       "37597  C[C@@H](NS(C)(=O)=O)c1nnc(N2CCC(CC2)S(C)(=O)=O...  \n",
       "37598  COCC[C@@](C)(O)Cn1c(nnc1N1CCN(CC1)C(=O)[C@@H]1...  \n",
       "37599  COCCN(CCOC)S(=O)(=O)N1CCN([C@H]2CS(=O)(=O)C[C@...  \n",
       "37600  CNC(=O)[C@]1(C)CCN(C1)c1nnc([C@@H](C)OCCOC)n1C...  \n",
       "37601  COC(=O)C=C1SCC(=O)N1CCCN1CCN(CC1)S(=O)(=O)N=S(...  \n",
       "\n",
       "[37602 rows x 5 columns]"
      ]
     },
     "execution_count": 166,
     "metadata": {},
     "output_type": "execute_result"
    }
   ],
   "source": [
    "ligand_df"
   ]
  },
  {
   "cell_type": "code",
   "execution_count": 5,
   "metadata": {},
   "outputs": [],
   "source": [
    "@lru_cache(maxsize=None)\n",
    "def search_real_by_id(real_id):\n",
    "    \"\"\"Returns ligand object if found an an object containing the exception if failed. \"\"\"\n",
    "    query = {\n",
    "        \"controlPath\": \"ids\",\n",
    "        \"PageSize\": \"\",\n",
    "        \"PageNumber\": \"\",\n",
    "        \"reqMethod\": \"POST\",\n",
    "        \"reqtime\": 1618565991600,\n",
    "        \"jsonData\": {}\n",
    "    }\n",
    "    query[\"jsonData\"] = json.dumps({\"search\": real_id})\n",
    "\n",
    "    payload = urlencode(query)\n",
    "    headers = {\n",
    "        \"x-requested-with\": \"XMLHttpRequest\",\n",
    "        \"content-type\": \"application/x-www-form-urlencoded; charset=UTF-8\",\n",
    "    }\n",
    "    url = \"https://www.enaminestore.com/search.realsearch:searchrealidsrequest\"\n",
    "    \n",
    "    response = requests.request(\"POST\", url, headers=headers, data=payload)      \n",
    "    \n",
    "    if \"exception\" in response:\n",
    "        raise Exception(response[\"exception\"])\n",
    "    \n",
    "    return response.json()"
   ]
  },
  {
   "cell_type": "code",
   "execution_count": 6,
   "metadata": {},
   "outputs": [],
   "source": [
    "@lru_cache(maxsize=None)\n",
    "def smiles_to_image(smiles_str, width=400, height=300):\n",
    "    query = {\n",
    "        \"reqtime\": 1618565992221,\n",
    "        \"jsonData\": {}\n",
    "    }\n",
    "    query[\"jsonData\"] = json.dumps({\"structure\": smiles_str, \"parameters\": f\"png:w{width},h{height}\"})\n",
    "\n",
    "    payload = urlencode(query)\n",
    "    headers = {\n",
    "        \"x-requested-with\": \"XMLHttpRequest\",\n",
    "        \"content-type\": \"application/x-www-form-urlencoded; charset=UTF-8\",\n",
    "    }\n",
    "    url = \"https://www.enaminestore.com/search.realsearch:smilestoimagerequest\"\n",
    "    response = requests.request(\"POST\", url, headers=headers, data=payload)\n",
    "    \n",
    "    if \"exception\" in response:\n",
    "        raise Exception(response[\"exception\"])\n",
    "    \n",
    "    return response.json()"
   ]
  },
  {
   "cell_type": "code",
   "execution_count": 7,
   "metadata": {},
   "outputs": [],
   "source": [
    "def get_ligand_by_id(real_id):\n",
    "    try:\n",
    "        response = search_real_by_id(real_id=real_id)\n",
    "        ligand_obj = json.loads(response[\"result\"][0])\n",
    "        smiles_str = ligand_obj[\"data\"][0][\"smiles\"]\n",
    "\n",
    "        img_response = smiles_to_image(smiles_str=smiles_str)\n",
    "        img = json.loads(img_response[\"result\"])\n",
    "\n",
    "        return {\"id\": real_id, \"data\": ligand_obj[\"data\"][0], \"binaryImg\": img[\"binaryStructure\"]}\n",
    "    except:\n",
    "        return {}"
   ]
  },
  {
   "cell_type": "code",
   "execution_count": 28,
   "metadata": {},
   "outputs": [
    {
     "data": {
      "text/html": [
       "<img src=\"data:image/png;base64,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\">"
      ],
      "text/plain": [
       "<IPython.core.display.HTML object>"
      ]
     },
     "execution_count": 28,
     "metadata": {},
     "output_type": "execute_result"
    }
   ],
   "source": [
    "HTML(f'<img src=\"{json.loads(smiles_to_image(smiles_str=\"O=C(CCc1ccc(cc1)S(=O)(=O)N1CCOCC1)NNC(=O)[C@@H]1CSCC(=O)N1\")[\"result\"])[\"binaryStructure\"]}\">')"
   ]
  },
  {
   "cell_type": "code",
   "execution_count": 103,
   "metadata": {},
   "outputs": [],
   "source": [
    "def get_svg_from_local(ligand):\n",
    "    image_str = \"\"\n",
    "    with open(f\"../data/ligand_img/{ligand}.svg\") as svg_file:\n",
    "        svg = base64.b64encode(svg_file.read().encode()).decode(\"utf-8\")\n",
    "        image_str = f'<img src=\"data:image/svg+xml;base64,{svg}\">'\n",
    "    return image_str"
   ]
  },
  {
   "cell_type": "code",
   "execution_count": 8,
   "metadata": {},
   "outputs": [],
   "source": [
    "def display_ligand(ligand_obj):\n",
    "    return HTML(f'<h3>{ligand_obj[\"id\"]}</h3><img src=\"{ligand_obj[\"binaryImg\"]}\">')"
   ]
  },
  {
   "cell_type": "code",
   "execution_count": 9,
   "metadata": {},
   "outputs": [
    {
     "data": {
      "text/html": [
       "<h3>Z507663874</h3><img src=\"data:image/png;base64,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\">"
      ],
      "text/plain": [
       "<IPython.core.display.HTML object>"
      ]
     },
     "metadata": {},
     "output_type": "display_data"
    }
   ],
   "source": [
    "real_id = \"Z507663874\"\n",
    "ligand = get_ligand_by_id(real_id=real_id)\n",
    "if ligand:\n",
    "    display(display_ligand(ligand_obj=ligand))"
   ]
  },
  {
   "cell_type": "code",
   "execution_count": 167,
   "metadata": {},
   "outputs": [
    {
     "data": {
      "text/plain": [
       "CacheInfo(hits=105818, misses=42467, maxsize=None, currsize=42457)"
      ]
     },
     "execution_count": 167,
     "metadata": {},
     "output_type": "execute_result"
    }
   ],
   "source": [
    "smiles_to_image.cache_info()"
   ]
  },
  {
   "cell_type": "code",
   "execution_count": 122,
   "metadata": {},
   "outputs": [],
   "source": [
    "# ligand_df2 = pd.read_html(f\"../data/{FILENAME}.html\")"
   ]
  },
  {
   "cell_type": "code",
   "execution_count": 168,
   "metadata": {},
   "outputs": [
    {
     "name": "stdout",
     "output_type": "stream",
     "text": [
      "0\n",
      "5000\n",
      "10000\n",
      "15000\n",
      "20000\n",
      "25000\n",
      "30000\n",
      "35000\n"
     ]
    }
   ],
   "source": [
    "llist = []\n",
    "# for i, l in enumerate(ligand_df[\"Ligand\"].values):\n",
    "for i, s in enumerate(ligand_df[\"Smiles\"].values):\n",
    "    if i % 5000 == 0:\n",
    "        print(i)\n",
    "#     smiles_str = \"\"\n",
    "    image_str = \"\"\n",
    "#     if not \"PV\" in l:\n",
    "#         real_id = l.split(\"_\")[0]\n",
    "#         ligand = get_ligand_by_id(real_id=real_id)\n",
    "        \n",
    "    img_response = smiles_to_image(smiles_str=s)\n",
    "    if \"result\" in img_response:\n",
    "        img = json.loads(img_response[\"result\"])\n",
    "        image_str = f'<img src=\"{img[\"binaryStructure\"]}\">'\n",
    "    \n",
    "    llist.append({\"Image\": image_str})\n",
    "        \n",
    "#         if ligand:\n",
    "#             image_str = f'<img src=\"{ligand[\"binaryImg\"]}\">'\n",
    "#             smiles_str = ligand[\"data\"][\"smiles\"]\n",
    "\n",
    "#     llist.append({\"Image\": image_str, \"Smiles\": smiles_str})"
   ]
  },
  {
   "cell_type": "code",
   "execution_count": 169,
   "metadata": {},
   "outputs": [],
   "source": [
    "# ligand_df = ligand_df.drop([\"Image\"], axis=1)"
   ]
  },
  {
   "cell_type": "code",
   "execution_count": 170,
   "metadata": {},
   "outputs": [],
   "source": [
    "ligand_df = pd.concat([ligand_df.reset_index(drop=True), pd.DataFrame(llist)], axis=1)"
   ]
  },
  {
   "cell_type": "code",
   "execution_count": 171,
   "metadata": {},
   "outputs": [
    {
     "data": {
      "text/html": [
       "<div>\n",
       "<style scoped>\n",
       "    .dataframe tbody tr th:only-of-type {\n",
       "        vertical-align: middle;\n",
       "    }\n",
       "\n",
       "    .dataframe tbody tr th {\n",
       "        vertical-align: top;\n",
       "    }\n",
       "\n",
       "    .dataframe thead th {\n",
       "        text-align: right;\n",
       "    }\n",
       "</style>\n",
       "<table border=\"1\" class=\"dataframe\">\n",
       "  <thead>\n",
       "    <tr style=\"text-align: right;\">\n",
       "      <th></th>\n",
       "      <th>Collection</th>\n",
       "      <th>Ligand</th>\n",
       "      <th>Highest-Score</th>\n",
       "      <th>NA</th>\n",
       "      <th>Smiles</th>\n",
       "      <th>Image</th>\n",
       "    </tr>\n",
       "  </thead>\n",
       "  <tbody>\n",
       "    <tr>\n",
       "      <th>0</th>\n",
       "      <td>JBDDDG_00000</td>\n",
       "      <td>PV-001829600218_1_T1</td>\n",
       "      <td>-7.7</td>\n",
       "      <td>1</td>\n",
       "      <td>C[C@@]1(N=C(O)NC1=O)C1=CC=CC(=C1)C(=O)NCCC(=O)...</td>\n",
       "      <td>&lt;img src=\"data:image/png;base64,iVBORw0KGgoAAA...</td>\n",
       "    </tr>\n",
       "    <tr>\n",
       "      <th>1</th>\n",
       "      <td>JBDDCG_00000</td>\n",
       "      <td>PV-001836769525_1_T1</td>\n",
       "      <td>-7.5</td>\n",
       "      <td>1</td>\n",
       "      <td>OC1=NC2(CCCC2)C(=O)N1CC(=O)NNC(=O)CN1CCN(CC1)C...</td>\n",
       "      <td>&lt;img src=\"data:image/png;base64,iVBORw0KGgoAAA...</td>\n",
       "    </tr>\n",
       "    <tr>\n",
       "      <th>2</th>\n",
       "      <td>JBDDCG_00000</td>\n",
       "      <td>PV-001872914269_1_T1</td>\n",
       "      <td>-7.4</td>\n",
       "      <td>1</td>\n",
       "      <td>OC1(CNC(=O)c2cccc(c2)S(=O)(=O)N2CCNC(=O)C2)CCC...</td>\n",
       "      <td>&lt;img src=\"data:image/png;base64,iVBORw0KGgoAAA...</td>\n",
       "    </tr>\n",
       "    <tr>\n",
       "      <th>3</th>\n",
       "      <td>JBDDDG_00000</td>\n",
       "      <td>PV-001829600017_2_T3</td>\n",
       "      <td>-7.4</td>\n",
       "      <td>1</td>\n",
       "      <td>C[C@]1(NC(=O)N=C1O)C1=CC=C(C=C1)C(=O)NCCC(=O)N...</td>\n",
       "      <td>&lt;img src=\"data:image/png;base64,iVBORw0KGgoAAA...</td>\n",
       "    </tr>\n",
       "    <tr>\n",
       "      <th>4</th>\n",
       "      <td>JBDDCG_00000</td>\n",
       "      <td>PV-001850780878_2_T1</td>\n",
       "      <td>-7.3</td>\n",
       "      <td>1</td>\n",
       "      <td>OC1=C(C(=O)NNC(=O)CCN2CCN(CC2)C(=O)[C@H]2CCCO2...</td>\n",
       "      <td>&lt;img src=\"data:image/png;base64,iVBORw0KGgoAAA...</td>\n",
       "    </tr>\n",
       "    <tr>\n",
       "      <th>...</th>\n",
       "      <td>...</td>\n",
       "      <td>...</td>\n",
       "      <td>...</td>\n",
       "      <td>...</td>\n",
       "      <td>...</td>\n",
       "      <td>...</td>\n",
       "    </tr>\n",
       "    <tr>\n",
       "      <th>37597</th>\n",
       "      <td>JBFCFG_00000</td>\n",
       "      <td>PV-002008653608_2_T1</td>\n",
       "      <td>-3.5</td>\n",
       "      <td>1</td>\n",
       "      <td>C[C@@H](NS(C)(=O)=O)c1nnc(N2CCC(CC2)S(C)(=O)=O...</td>\n",
       "      <td>&lt;img src=\"data:image/png;base64,iVBORw0KGgoAAA...</td>\n",
       "    </tr>\n",
       "    <tr>\n",
       "      <th>37598</th>\n",
       "      <td>JBFCFG_00001</td>\n",
       "      <td>PV-002041695183_4_T1</td>\n",
       "      <td>-3.5</td>\n",
       "      <td>1</td>\n",
       "      <td>COCC[C@@](C)(O)Cn1c(nnc1N1CCN(CC1)C(=O)[C@@H]1...</td>\n",
       "      <td>&lt;img src=\"data:image/png;base64,iVBORw0KGgoAAA...</td>\n",
       "    </tr>\n",
       "    <tr>\n",
       "      <th>37599</th>\n",
       "      <td>JBEAEG_00000</td>\n",
       "      <td>PV-001939926551_1_T1</td>\n",
       "      <td>-3.4</td>\n",
       "      <td>1</td>\n",
       "      <td>COCCN(CCOC)S(=O)(=O)N1CCN([C@H]2CS(=O)(=O)C[C@...</td>\n",
       "      <td>&lt;img src=\"data:image/png;base64,iVBORw0KGgoAAA...</td>\n",
       "    </tr>\n",
       "    <tr>\n",
       "      <th>37600</th>\n",
       "      <td>JBFCEG_00003</td>\n",
       "      <td>PV-002035337131_7_T1</td>\n",
       "      <td>-3.3</td>\n",
       "      <td>1</td>\n",
       "      <td>CNC(=O)[C@]1(C)CCN(C1)c1nnc([C@@H](C)OCCOC)n1C...</td>\n",
       "      <td>&lt;img src=\"data:image/png;base64,iVBORw0KGgoAAA...</td>\n",
       "    </tr>\n",
       "    <tr>\n",
       "      <th>37601</th>\n",
       "      <td>JBEADF_00000</td>\n",
       "      <td>PV-001919760152_2_T1</td>\n",
       "      <td>-3.2</td>\n",
       "      <td>1</td>\n",
       "      <td>COC(=O)C=C1SCC(=O)N1CCCN1CCN(CC1)S(=O)(=O)N=S(...</td>\n",
       "      <td>&lt;img src=\"data:image/png;base64,iVBORw0KGgoAAA...</td>\n",
       "    </tr>\n",
       "  </tbody>\n",
       "</table>\n",
       "<p>37602 rows × 6 columns</p>\n",
       "</div>"
      ],
      "text/plain": [
       "         Collection                Ligand Highest-Score NA  \\\n",
       "0      JBDDDG_00000  PV-001829600218_1_T1          -7.7  1   \n",
       "1      JBDDCG_00000  PV-001836769525_1_T1          -7.5  1   \n",
       "2      JBDDCG_00000  PV-001872914269_1_T1          -7.4  1   \n",
       "3      JBDDDG_00000  PV-001829600017_2_T3          -7.4  1   \n",
       "4      JBDDCG_00000  PV-001850780878_2_T1          -7.3  1   \n",
       "...             ...                   ...           ... ..   \n",
       "37597  JBFCFG_00000  PV-002008653608_2_T1          -3.5  1   \n",
       "37598  JBFCFG_00001  PV-002041695183_4_T1          -3.5  1   \n",
       "37599  JBEAEG_00000  PV-001939926551_1_T1          -3.4  1   \n",
       "37600  JBFCEG_00003  PV-002035337131_7_T1          -3.3  1   \n",
       "37601  JBEADF_00000  PV-001919760152_2_T1          -3.2  1   \n",
       "\n",
       "                                                  Smiles  \\\n",
       "0      C[C@@]1(N=C(O)NC1=O)C1=CC=CC(=C1)C(=O)NCCC(=O)...   \n",
       "1      OC1=NC2(CCCC2)C(=O)N1CC(=O)NNC(=O)CN1CCN(CC1)C...   \n",
       "2      OC1(CNC(=O)c2cccc(c2)S(=O)(=O)N2CCNC(=O)C2)CCC...   \n",
       "3      C[C@]1(NC(=O)N=C1O)C1=CC=C(C=C1)C(=O)NCCC(=O)N...   \n",
       "4      OC1=C(C(=O)NNC(=O)CCN2CCN(CC2)C(=O)[C@H]2CCCO2...   \n",
       "...                                                  ...   \n",
       "37597  C[C@@H](NS(C)(=O)=O)c1nnc(N2CCC(CC2)S(C)(=O)=O...   \n",
       "37598  COCC[C@@](C)(O)Cn1c(nnc1N1CCN(CC1)C(=O)[C@@H]1...   \n",
       "37599  COCCN(CCOC)S(=O)(=O)N1CCN([C@H]2CS(=O)(=O)C[C@...   \n",
       "37600  CNC(=O)[C@]1(C)CCN(C1)c1nnc([C@@H](C)OCCOC)n1C...   \n",
       "37601  COC(=O)C=C1SCC(=O)N1CCCN1CCN(CC1)S(=O)(=O)N=S(...   \n",
       "\n",
       "                                                   Image  \n",
       "0      <img src=\"data:image/png;base64,iVBORw0KGgoAAA...  \n",
       "1      <img src=\"data:image/png;base64,iVBORw0KGgoAAA...  \n",
       "2      <img src=\"data:image/png;base64,iVBORw0KGgoAAA...  \n",
       "3      <img src=\"data:image/png;base64,iVBORw0KGgoAAA...  \n",
       "4      <img src=\"data:image/png;base64,iVBORw0KGgoAAA...  \n",
       "...                                                  ...  \n",
       "37597  <img src=\"data:image/png;base64,iVBORw0KGgoAAA...  \n",
       "37598  <img src=\"data:image/png;base64,iVBORw0KGgoAAA...  \n",
       "37599  <img src=\"data:image/png;base64,iVBORw0KGgoAAA...  \n",
       "37600  <img src=\"data:image/png;base64,iVBORw0KGgoAAA...  \n",
       "37601  <img src=\"data:image/png;base64,iVBORw0KGgoAAA...  \n",
       "\n",
       "[37602 rows x 6 columns]"
      ]
     },
     "execution_count": 171,
     "metadata": {},
     "output_type": "execute_result"
    }
   ],
   "source": [
    "ligand_df"
   ]
  },
  {
   "cell_type": "code",
   "execution_count": 172,
   "metadata": {},
   "outputs": [],
   "source": [
    "# [print(r[1], list(ligand_df[\"Ligand\"].values)[r[0]]) for r in random.sample(list(enumerate(ligand_df[\"Smiles\"].values)), 20)]"
   ]
  },
  {
   "cell_type": "code",
   "execution_count": 173,
   "metadata": {},
   "outputs": [],
   "source": [
    "html = saxutils.unescape(ligand_df.to_html())"
   ]
  },
  {
   "cell_type": "code",
   "execution_count": 174,
   "metadata": {},
   "outputs": [],
   "source": [
    "with open(f\"../data/{FILENAME}.html\", \"w\") as f:\n",
    "    f.write(html)"
   ]
  },
  {
   "cell_type": "code",
   "execution_count": 175,
   "metadata": {},
   "outputs": [],
   "source": [
    "ligand_df.to_csv(f\"../data/{FILENAME}.csv\")"
   ]
  },
  {
   "cell_type": "code",
   "execution_count": null,
   "metadata": {},
   "outputs": [],
   "source": []
  }
 ],
 "metadata": {
  "kernelspec": {
   "display_name": "talus_data_analysis",
   "language": "python",
   "name": "talus_data_analysis"
  },
  "language_info": {
   "codemirror_mode": {
    "name": "ipython",
    "version": 3
   },
   "file_extension": ".py",
   "mimetype": "text/x-python",
   "name": "python",
   "nbconvert_exporter": "python",
   "pygments_lexer": "ipython3",
   "version": "3.8.5"
  }
 },
 "nbformat": 4,
 "nbformat_minor": 4
}
