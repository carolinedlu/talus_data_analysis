{
 "cells": [
  {
   "cell_type": "code",
   "execution_count": 3,
   "metadata": {},
   "outputs": [],
   "source": [
    "import pandas as pd\n",
    "from sklearn.metrics import roc_auc_score, roc_curve\n",
    "import matplotlib.pyplot as plt"
   ]
  },
  {
   "cell_type": "code",
   "execution_count": 51,
   "metadata": {},
   "outputs": [],
   "source": [
    "DATA_DIR = \"/mnt/efs/lit-pcba/FEN1/\"\n",
    "SUMMARY_FILE = \"vina_medium_ex8_summary.csv\""
   ]
  },
  {
   "cell_type": "code",
   "execution_count": 9,
   "metadata": {},
   "outputs": [
    {
     "name": "stdout",
     "output_type": "stream",
     "text": [
      "total 20896\n",
      "drwxr-xr-x 4 root   root       6144 May 24 16:28 .\n",
      "drwxr-xr-x 3 root   root       6144 May 19 19:37 ..\n",
      "-rw-r----- 1 root   root       3560 May 20 22:39 5fv7_ligand.mol2\n",
      "-rw-r----- 1 root   root     546610 May 20 22:39 5fv7_protein.mol2\n",
      "-rw-r--r-- 1 root   root      20868 May 20 22:39 actives.smi\n",
      "-rw-r--r-- 1 root   root      78071 May 22 18:56 autodock_medium_cuda_old_summary.csv\n",
      "-rw-r--r-- 1 root   root      77299 May 24 14:21 autodock_medium_summary.csv\n",
      "-rw-r--r-- 1 root   root      77300 May 24 16:27 autodock_small_summary.csv\n",
      "-rw-r--r-- 1 root   root      41189 May 20 22:39 inactives_700.smi\n",
      "-rw-r--r-- 1 root   root   19553251 May 20 22:39 inactives.smi\n",
      "drwxr-xr-x 2 root   root     145408 May 20 22:40 ligands\n",
      "-rw-r--r-- 1 root   root        217 May 20 22:40 params.json\n",
      "-rw-r--r-- 1 root   root        195 May 23 19:55 qvina02_config.txt\n",
      "-rw-r--r-- 1 root   root      73286 May 24 06:23 qvina02_large_ex16_summary.csv\n",
      "-rw-r--r-- 1 root   root      73286 May 23 17:06 qvina02_large_ex8_summary.csv\n",
      "-rw-r--r-- 1 root   root      73286 May 21 06:51 qvina02_large_summary.csv\n",
      "-rw-r--r-- 1 root   root      73286 May 23 17:00 qvina02_medium_ex8_summary.csv\n",
      "-rw-r--r-- 1 root   root      73286 May 21 06:50 qvina02_small_summary.csv\n",
      "drwxrwxr-x 2 ubuntu ubuntu     6144 May 24 09:07 receptor\n",
      "-rw-r--r-- 1 root   root        212 May 23 12:00 smina_config.txt\n",
      "-rw-r--r-- 1 root   root      73286 May 23 22:19 smina_large_ex8_summary.csv\n",
      "-rw-r--r-- 1 root   root      73286 May 21 08:27 smina_large_summary.csv\n",
      "-rw-r--r-- 1 root   root      73286 May 24 06:16 smina_medium_ex8_summary.csv\n",
      "-rw-r--r-- 1 root   root      73286 May 21 08:14 smina_medium_summary.csv\n",
      "-rw-r--r-- 1 root   root      73286 May 21 13:56 smina_small_summary.csv\n",
      "-rw-r--r-- 1 root   root        194 May 23 19:36 vina_config.txt\n",
      "-rw-r--r-- 1 root   root      73286 May 24 06:19 vina_medium_ex8_summary.csv\n"
     ]
    }
   ],
   "source": [
    "!ls -al $DATA_DIR"
   ]
  },
  {
   "cell_type": "markdown",
   "metadata": {},
   "source": [
    "## Load actives and inactives"
   ]
  },
  {
   "cell_type": "code",
   "execution_count": 6,
   "metadata": {},
   "outputs": [],
   "source": [
    "actives = pd.read_csv(f\"{DATA_DIR}/actives.smi\", sep=\" \", names=[\"Smiles\", \"Ligand\"])\n",
    "actives[\"Active\"] = 1\n",
    "inactives = pd.read_csv(f\"{DATA_DIR}/inactives_700.smi\", sep=\" \", names=[\"Smiles\", \"Ligand\"])\n",
    "inactives[\"Active\"] = 0\n",
    "ligands_df = pd.concat([actives, inactives]).reset_index(drop=True)"
   ]
  },
  {
   "cell_type": "code",
   "execution_count": 7,
   "metadata": {},
   "outputs": [
    {
     "data": {
      "text/html": [
       "<div>\n",
       "<style scoped>\n",
       "    .dataframe tbody tr th:only-of-type {\n",
       "        vertical-align: middle;\n",
       "    }\n",
       "\n",
       "    .dataframe tbody tr th {\n",
       "        vertical-align: top;\n",
       "    }\n",
       "\n",
       "    .dataframe thead th {\n",
       "        text-align: right;\n",
       "    }\n",
       "</style>\n",
       "<table border=\"1\" class=\"dataframe\">\n",
       "  <thead>\n",
       "    <tr style=\"text-align: right;\">\n",
       "      <th></th>\n",
       "      <th>Smiles</th>\n",
       "      <th>Ligand</th>\n",
       "      <th>Active</th>\n",
       "    </tr>\n",
       "  </thead>\n",
       "  <tbody>\n",
       "    <tr>\n",
       "      <th>0</th>\n",
       "      <td>Cc1ccc2C3C=CCC3C(Nc2c1C)C(=O)[O-]</td>\n",
       "      <td>844096</td>\n",
       "      <td>1</td>\n",
       "    </tr>\n",
       "    <tr>\n",
       "      <th>1</th>\n",
       "      <td>Oc1ccc(Nc2nc(N3CCCC3)c4ccccc4n2)cc1</td>\n",
       "      <td>852615</td>\n",
       "      <td>1</td>\n",
       "    </tr>\n",
       "    <tr>\n",
       "      <th>2</th>\n",
       "      <td>C[NH+](C)[C@H]1[C@@H]2CC3C(=C([O-])[C@]2(O)C(=...</td>\n",
       "      <td>855713</td>\n",
       "      <td>1</td>\n",
       "    </tr>\n",
       "    <tr>\n",
       "      <th>3</th>\n",
       "      <td>ON1C(=O)C(=O)N(O)c2ccccc12</td>\n",
       "      <td>857795</td>\n",
       "      <td>1</td>\n",
       "    </tr>\n",
       "    <tr>\n",
       "      <th>4</th>\n",
       "      <td>ON1C(=O)c2cccc3c(ccc(C1=O)c23)C(=O)N4CCCCC4</td>\n",
       "      <td>857966</td>\n",
       "      <td>1</td>\n",
       "    </tr>\n",
       "  </tbody>\n",
       "</table>\n",
       "</div>"
      ],
      "text/plain": [
       "                                              Smiles  Ligand  Active\n",
       "0                  Cc1ccc2C3C=CCC3C(Nc2c1C)C(=O)[O-]  844096       1\n",
       "1                Oc1ccc(Nc2nc(N3CCCC3)c4ccccc4n2)cc1  852615       1\n",
       "2  C[NH+](C)[C@H]1[C@@H]2CC3C(=C([O-])[C@]2(O)C(=...  855713       1\n",
       "3                         ON1C(=O)C(=O)N(O)c2ccccc12  857795       1\n",
       "4        ON1C(=O)c2cccc3c(ccc(C1=O)c23)C(=O)N4CCCCC4  857966       1"
      ]
     },
     "execution_count": 7,
     "metadata": {},
     "output_type": "execute_result"
    }
   ],
   "source": [
    "ligands_df.head()"
   ]
  },
  {
   "cell_type": "markdown",
   "metadata": {},
   "source": [
    "## Load summary df"
   ]
  },
  {
   "cell_type": "code",
   "execution_count": 52,
   "metadata": {},
   "outputs": [],
   "source": [
    "summary_df = pd.read_csv(f\"{DATA_DIR}/{SUMMARY_FILE}\", sep=\";\", header=0, names=[\"Ligand Taut\", \"Score\"])\n",
    "summary_df[\"Ligand\"] = summary_df[\"Ligand Taut\"].apply(lambda row: int(row.split(\"_\")[0]))\n",
    "summary_df[\"Neg Score\"] = summary_df[\"Score\"] * -1\n",
    "summary_df = summary_df.groupby(\"Ligand\", as_index=False)[\"Neg Score\"].max()"
   ]
  },
  {
   "cell_type": "code",
   "execution_count": 53,
   "metadata": {},
   "outputs": [],
   "source": [
    "summary_df = summary_df.merge(ligands_df[[\"Ligand\", \"Active\"]], on=\"Ligand\")"
   ]
  },
  {
   "cell_type": "code",
   "execution_count": 54,
   "metadata": {},
   "outputs": [
    {
     "data": {
      "text/plain": [
       "(3.8, 8.3)"
      ]
     },
     "execution_count": 54,
     "metadata": {},
     "output_type": "execute_result"
    }
   ],
   "source": [
    "summary_df[\"Neg Score\"].min(), summary_df[\"Neg Score\"].max()"
   ]
  },
  {
   "cell_type": "markdown",
   "metadata": {},
   "source": [
    "## Calculate ROC-AUC"
   ]
  },
  {
   "cell_type": "code",
   "execution_count": 55,
   "metadata": {},
   "outputs": [],
   "source": [
    "def calculate_roc_curve(y_true, y_score):\n",
    "    roc_auc = roc_auc_score(y_true=y_true, y_score=y_score)\n",
    "    print(f\"ROC-AUC Score: {round(roc_auc, 3)} for file: {SUMMARY_FILE}\")\n",
    "    \n",
    "    fpr, tpr, thresholds = roc_curve(y_true=y_true, y_score=y_score)\n",
    "    plt.title('Receiver Operating Characteristic')\n",
    "    plt.plot(fpr, tpr, 'b', label = 'AUC = %0.2f' % roc_auc)\n",
    "    plt.legend(loc = 'lower right')\n",
    "    plt.plot([0, 1], [0, 1],'r--')\n",
    "    plt.xlim([0, 1])\n",
    "    plt.ylim([0, 1])\n",
    "    plt.ylabel('True Positive Rate')\n",
    "    plt.xlabel('False Positive Rate')\n",
    "    plt.show()"
   ]
  },
  {
   "cell_type": "code",
   "execution_count": 56,
   "metadata": {},
   "outputs": [
    {
     "name": "stdout",
     "output_type": "stream",
     "text": [
      "ROC-AUC Score: 0.611 for file: vina_medium_ex8_summary.csv\n"
     ]
    },
    {
     "data": {
      "image/png": "[encoded data removed]",
      "text/plain": [
       "<Figure size 432x288 with 1 Axes>"
      ]
     },
     "metadata": {
      "needs_background": "light"
     },
     "output_type": "display_data"
    }
   ],
   "source": [
    "calculate_roc_curve(y_true=summary_df[\"Active\"], y_score=summary_df[\"Neg Score\"])"
   ]
  },
  {
   "cell_type": "code",
   "execution_count": 97,
   "metadata": {},
   "outputs": [],
   "source": []
  },
  {
   "cell_type": "code",
   "execution_count": null,
   "metadata": {},
   "outputs": [],
   "source": []
  }
 ],
 "metadata": {
  "kernelspec": {
   "display_name": "Python 3",
   "language": "python",
   "name": "python3"
  },
  "language_info": {
   "codemirror_mode": {
    "name": "ipython",
    "version": 3
   },
   "file_extension": ".py",
   "mimetype": "text/x-python",
   "name": "python",
   "nbconvert_exporter": "python",
   "pygments_lexer": "ipython3",
   "version": "3.8.5"
  }
 },
 "nbformat": 4,
 "nbformat_minor": 5
}
