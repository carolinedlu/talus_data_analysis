{
 "cells": [
  {
   "cell_type": "code",
   "execution_count": 1,
   "metadata": {},
   "outputs": [],
   "source": [
    "%load_ext autoreload\n",
    "%autoreload 2"
   ]
  },
  {
   "cell_type": "code",
   "execution_count": 2,
   "metadata": {},
   "outputs": [],
   "source": [
    "import sys\n",
    "sys.path.append('..')"
   ]
  },
  {
   "cell_type": "code",
   "execution_count": 11,
   "metadata": {},
   "outputs": [],
   "source": [
    "import pandas as pd\n",
    "from talus_data_analysis.load import read_excel_from_gdrive, read_csv_from_gdrive\n",
    "from pydrive.auth import GoogleAuth"
   ]
  },
  {
   "cell_type": "code",
   "execution_count": 4,
   "metadata": {},
   "outputs": [],
   "source": [
    "compartment_enrichment_candidates = pd.read_csv(\"../data/compartment_enrichment_candidates.csv\")"
   ]
  },
  {
   "cell_type": "code",
   "execution_count": 5,
   "metadata": {},
   "outputs": [],
   "source": [
    "gauth = GoogleAuth(settings_file=\"../settings.yaml\")"
   ]
  },
  {
   "cell_type": "code",
   "execution_count": 15,
   "metadata": {},
   "outputs": [],
   "source": [
    "lambert_confirmed_tfs = read_excel_from_gdrive(gauth=gauth, key=\"lambert_confirmed_tfs.xlsx\", sheet=\"Sheet1\", header=None)"
   ]
  },
  {
   "cell_type": "code",
   "execution_count": 12,
   "metadata": {},
   "outputs": [],
   "source": [
    "epigenes_main = read_csv_from_gdrive(gauth=gauth, key=\"EpiGenes_main.csv\")"
   ]
  },
  {
   "cell_type": "code",
   "execution_count": 39,
   "metadata": {},
   "outputs": [],
   "source": [
    "nuclear_protein_set = set(lambert_confirmed_tfs[lambert_confirmed_tfs[3] == \"Yes\"][1].str.upper())\n",
    "nuclear_protein_set.update(set(compartment_enrichment_candidates[\"protein\"].str.upper().apply(lambda x: x.split(\"|\")[1])))\n",
    "nuclear_protein_set.update(set(epigenes_main[\"UniProt_ID\"].str.upper().apply(lambda x: x.split(\"_\")[0])))"
   ]
  },
  {
   "cell_type": "code",
   "execution_count": 43,
   "metadata": {},
   "outputs": [],
   "source": [
    "nuclear_protein_df = pd.DataFrame({\"Proteins\": list(nuclear_protein_set)})"
   ]
  },
  {
   "cell_type": "code",
   "execution_count": 44,
   "metadata": {},
   "outputs": [],
   "source": [
    "nuclear_protein_df.to_csv(\"../data/nuclear_proteins.csv\")"
   ]
  },
  {
   "cell_type": "code",
   "execution_count": null,
   "metadata": {},
   "outputs": [],
   "source": []
  }
 ],
 "metadata": {
  "kernelspec": {
   "display_name": "talus_data_analysis",
   "language": "python",
   "name": "talus_data_analysis"
  },
  "language_info": {
   "codemirror_mode": {
    "name": "ipython",
    "version": 3
   },
   "file_extension": ".py",
   "mimetype": "text/x-python",
   "name": "python",
   "nbconvert_exporter": "python",
   "pygments_lexer": "ipython3",
   "version": "3.8.5"
  }
 },
 "nbformat": 4,
 "nbformat_minor": 4
}
