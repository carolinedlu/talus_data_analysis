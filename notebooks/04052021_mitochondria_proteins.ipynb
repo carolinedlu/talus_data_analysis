{
 "cells": [
  {
   "cell_type": "code",
   "execution_count": 1,
   "metadata": {},
   "outputs": [],
   "source": [
    "%load_ext autoreload\n",
    "%autoreload 2"
   ]
  },
  {
   "cell_type": "code",
   "execution_count": 2,
   "metadata": {},
   "outputs": [],
   "source": [
    "import sys\n",
    "sys.path.append('..')"
   ]
  },
  {
   "cell_type": "code",
   "execution_count": 3,
   "metadata": {},
   "outputs": [],
   "source": [
    "from talus_data_analysis.load import *\n",
    "from talus_data_analysis.elib import Elib\n",
    "from talus_data_analysis.reshape import uniprot_protein_name\n",
    "from dotenv import load_dotenv\n",
    "import tempfile\n",
    "import sqlite3\n",
    "import pandas as pd"
   ]
  },
  {
   "cell_type": "code",
   "execution_count": 4,
   "metadata": {},
   "outputs": [
    {
     "data": {
      "text/plain": [
       "True"
      ]
     },
     "execution_count": 4,
     "metadata": {},
     "output_type": "execute_result"
    }
   ],
   "source": [
    "load_dotenv()"
   ]
  },
  {
   "cell_type": "code",
   "execution_count": 108,
   "metadata": {},
   "outputs": [],
   "source": [
    "k562_proteome = pd.read_csv(\"../data/K562_proteome_4fractions.txt\", sep=\"\\t\")"
   ]
  },
  {
   "cell_type": "code",
   "execution_count": 109,
   "metadata": {},
   "outputs": [],
   "source": [
    "k562_proteome = k562_proteome[[\"xPeptide\", \"Protein\"]]\n",
    "k562_proteome.columns = [\"PeptideSeq\", \"ProteinAccession\"]\n",
    "k562_proteome[\"ProteinAccession\"] = k562_proteome[\"ProteinAccession\"].apply(lambda x: x.split(\";\"))\n",
    "k562_proteome = k562_proteome.explode(\"ProteinAccession\")\n",
    "k562_proteome[\"Cell Line\"] = \"K562\"\n",
    "k562_proteome[\"Protein\"] = k562_proteome[\"ProteinAccession\"].apply(uniprot_protein_name)"
   ]
  },
  {
   "cell_type": "code",
   "execution_count": 110,
   "metadata": {},
   "outputs": [],
   "source": [
    "MM1S_ELIB = \"../data/MM1S/RESULTS-quant.elib\"\n",
    "MLLtx_ELIB = \"../data/MLLtx/RESULTS-quant.elib\""
   ]
  },
  {
   "cell_type": "code",
   "execution_count": 111,
   "metadata": {},
   "outputs": [],
   "source": [
    "sql = \"SELECT PeptideSeq, ProteinAccession FROM peptidetoprotein\""
   ]
  },
  {
   "cell_type": "code",
   "execution_count": 112,
   "metadata": {},
   "outputs": [],
   "source": [
    "mm1s_elib_conn = Elib(key=MM1S_ELIB)\n",
    "mm1s_df = pd.DataFrame(mm1s_elib_conn.execute_sql(sql), columns=[\"PeptideSeq\", \"ProteinAccession\"])\n",
    "mm1s_df[\"Cell Line\"] = \"MM1S\"\n",
    "mm1s_df[\"Protein\"] = mm1s_df[\"ProteinAccession\"].apply(uniprot_protein_name)"
   ]
  },
  {
   "cell_type": "code",
   "execution_count": 113,
   "metadata": {},
   "outputs": [],
   "source": [
    "mlltx_elib_conn = Elib(key=MLLtx_ELIB)\n",
    "mlltx_df = pd.DataFrame(mlltx_elib_conn.execute_sql(sql), columns=[\"PeptideSeq\", \"ProteinAccession\"])\n",
    "mlltx_df[\"Cell Line\"] = \"MLLtx\"\n",
    "mlltx_df[\"Protein\"] = mlltx_df[\"ProteinAccession\"].apply(uniprot_protein_name)"
   ]
  },
  {
   "cell_type": "code",
   "execution_count": 114,
   "metadata": {},
   "outputs": [],
   "source": [
    "df = k562_proteome.append(mm1s_df).append(mlltx_df)"
   ]
  },
  {
   "cell_type": "code",
   "execution_count": 115,
   "metadata": {},
   "outputs": [
    {
     "data": {
      "text/html": [
       "<div>\n",
       "<style scoped>\n",
       "    .dataframe tbody tr th:only-of-type {\n",
       "        vertical-align: middle;\n",
       "    }\n",
       "\n",
       "    .dataframe tbody tr th {\n",
       "        vertical-align: top;\n",
       "    }\n",
       "\n",
       "    .dataframe thead th {\n",
       "        text-align: right;\n",
       "    }\n",
       "</style>\n",
       "<table border=\"1\" class=\"dataframe\">\n",
       "  <thead>\n",
       "    <tr style=\"text-align: right;\">\n",
       "      <th></th>\n",
       "      <th>PeptideSeq</th>\n",
       "      <th>ProteinAccession</th>\n",
       "      <th>Cell Line</th>\n",
       "      <th>Protein</th>\n",
       "    </tr>\n",
       "  </thead>\n",
       "  <tbody>\n",
       "    <tr>\n",
       "      <th>0</th>\n",
       "      <td>AAAAAAAAAAAAAAAGAGAGAK</td>\n",
       "      <td>tr|G3XAL9|G3XAL9_HUMAN</td>\n",
       "      <td>K562</td>\n",
       "      <td>G3XAL9</td>\n",
       "    </tr>\n",
       "    <tr>\n",
       "      <th>0</th>\n",
       "      <td>AAAAAAAAAAAAAAAGAGAGAK</td>\n",
       "      <td>sp|P55011|S12A2_HUMAN</td>\n",
       "      <td>K562</td>\n",
       "      <td>S12A2</td>\n",
       "    </tr>\n",
       "    <tr>\n",
       "      <th>1</th>\n",
       "      <td>AAAAAAAAAVSR</td>\n",
       "      <td>sp|Q96JP5|ZFP91_HUMAN</td>\n",
       "      <td>K562</td>\n",
       "      <td>ZFP91</td>\n",
       "    </tr>\n",
       "    <tr>\n",
       "      <th>1</th>\n",
       "      <td>AAAAAAAAAVSR</td>\n",
       "      <td>tr|A0A0A6YYC7|A0A0A6YYC7_HUMAN</td>\n",
       "      <td>K562</td>\n",
       "      <td>A0A0A6YYC7</td>\n",
       "    </tr>\n",
       "    <tr>\n",
       "      <th>2</th>\n",
       "      <td>AAAAAAAAGAFAGR</td>\n",
       "      <td>sp|Q8N697|S15A4_HUMAN</td>\n",
       "      <td>K562</td>\n",
       "      <td>S15A4</td>\n",
       "    </tr>\n",
       "    <tr>\n",
       "      <th>...</th>\n",
       "      <td>...</td>\n",
       "      <td>...</td>\n",
       "      <td>...</td>\n",
       "      <td>...</td>\n",
       "    </tr>\n",
       "    <tr>\n",
       "      <th>108433</th>\n",
       "      <td>QGPTFLYNDSIPGK</td>\n",
       "      <td>DECOY_sp|Q9Y2E5|MA2B2_HUMAN</td>\n",
       "      <td>MLLtx</td>\n",
       "      <td>MA2B2</td>\n",
       "    </tr>\n",
       "    <tr>\n",
       "      <th>108434</th>\n",
       "      <td>CVEEASLQR</td>\n",
       "      <td>DECOY_sp|O14523|C2C2L_HUMAN</td>\n",
       "      <td>MLLtx</td>\n",
       "      <td>C2C2L</td>\n",
       "    </tr>\n",
       "    <tr>\n",
       "      <th>108435</th>\n",
       "      <td>SVAQEFSVR</td>\n",
       "      <td>DECOY_sp|Q13601|KRR1_HUMAN</td>\n",
       "      <td>MLLtx</td>\n",
       "      <td>KRR1</td>\n",
       "    </tr>\n",
       "    <tr>\n",
       "      <th>108436</th>\n",
       "      <td>IFLGGEKR</td>\n",
       "      <td>DECOY_sp|Q86WI1|PKHL1_HUMAN</td>\n",
       "      <td>MLLtx</td>\n",
       "      <td>PKHL1</td>\n",
       "    </tr>\n",
       "    <tr>\n",
       "      <th>108437</th>\n",
       "      <td>QIVDMQLR</td>\n",
       "      <td>DECOY_sp|Q12792|TWF1_HUMAN</td>\n",
       "      <td>MLLtx</td>\n",
       "      <td>TWF1</td>\n",
       "    </tr>\n",
       "  </tbody>\n",
       "</table>\n",
       "<p>340458 rows × 4 columns</p>\n",
       "</div>"
      ],
      "text/plain": [
       "                    PeptideSeq                ProteinAccession Cell Line  \\\n",
       "0       AAAAAAAAAAAAAAAGAGAGAK          tr|G3XAL9|G3XAL9_HUMAN      K562   \n",
       "0       AAAAAAAAAAAAAAAGAGAGAK           sp|P55011|S12A2_HUMAN      K562   \n",
       "1                 AAAAAAAAAVSR           sp|Q96JP5|ZFP91_HUMAN      K562   \n",
       "1                 AAAAAAAAAVSR  tr|A0A0A6YYC7|A0A0A6YYC7_HUMAN      K562   \n",
       "2               AAAAAAAAGAFAGR           sp|Q8N697|S15A4_HUMAN      K562   \n",
       "...                        ...                             ...       ...   \n",
       "108433          QGPTFLYNDSIPGK     DECOY_sp|Q9Y2E5|MA2B2_HUMAN     MLLtx   \n",
       "108434               CVEEASLQR     DECOY_sp|O14523|C2C2L_HUMAN     MLLtx   \n",
       "108435               SVAQEFSVR      DECOY_sp|Q13601|KRR1_HUMAN     MLLtx   \n",
       "108436                IFLGGEKR     DECOY_sp|Q86WI1|PKHL1_HUMAN     MLLtx   \n",
       "108437                QIVDMQLR      DECOY_sp|Q12792|TWF1_HUMAN     MLLtx   \n",
       "\n",
       "           Protein  \n",
       "0           G3XAL9  \n",
       "0            S12A2  \n",
       "1            ZFP91  \n",
       "1       A0A0A6YYC7  \n",
       "2            S15A4  \n",
       "...            ...  \n",
       "108433       MA2B2  \n",
       "108434       C2C2L  \n",
       "108435        KRR1  \n",
       "108436       PKHL1  \n",
       "108437        TWF1  \n",
       "\n",
       "[340458 rows x 4 columns]"
      ]
     },
     "execution_count": 115,
     "metadata": {},
     "output_type": "execute_result"
    }
   ],
   "source": [
    "df"
   ]
  },
  {
   "cell_type": "code",
   "execution_count": 116,
   "metadata": {},
   "outputs": [],
   "source": [
    "target_protein = [\"MCL-1\", \"BIM1\", \"BIM2\", \"BIM3\", \"BID\", \"BCL-XL\", \"BFL-1/A1\", \"BCL-2\", \"BAX\", \"BOK\", \"BIK\"]"
   ]
  },
  {
   "cell_type": "code",
   "execution_count": 118,
   "metadata": {},
   "outputs": [],
   "source": [
    "target_protein_mappings = {\n",
    "    \"MCL-1\": \"MCL1\", \n",
    "    \"BIM1\": \"BIM1\",\n",
    "    \"BIM2\": \"BIM2\",\n",
    "    \"BIM3\": \"BIM3\",\n",
    "    \"BID\": \"BID\",\n",
    "    \"BCL-XL\": \"B2CL1\",\n",
    "    \"BFL-1/A1\": \"B2LA1\",\n",
    "    \"BCL-2\": \"BCL2\", \n",
    "    \"BAX\": \"BAX\",\n",
    "    \"BOK\": \"BOK\",\n",
    "    \"BIK\": \"BIK\",\n",
    "}"
   ]
  },
  {
   "cell_type": "code",
   "execution_count": 119,
   "metadata": {},
   "outputs": [],
   "source": [
    "filtered_df = df[df[\"Protein\"].str.lower().isin(set([target_protein_mappings[protein].lower() for protein in target_protein]))]"
   ]
  },
  {
   "cell_type": "code",
   "execution_count": 120,
   "metadata": {},
   "outputs": [],
   "source": [
    "filtered_df = filtered_df.sort_values(by=[\"PeptideSeq\", \"Protein\", \"Cell Line\"]).reset_index(drop=True)"
   ]
  },
  {
   "cell_type": "code",
   "execution_count": 121,
   "metadata": {},
   "outputs": [],
   "source": [
    "filtered_df.columns = [\"Peptide\", \"UniProt ID\", \"Cell Line\", \"Protein\"]\n",
    "filtered_df = filtered_df[[\"Peptide\", \"Protein\", \"UniProt ID\", \"Cell Line\"]]"
   ]
  },
  {
   "cell_type": "code",
   "execution_count": 122,
   "metadata": {},
   "outputs": [
    {
     "data": {
      "text/html": [
       "<div>\n",
       "<style scoped>\n",
       "    .dataframe tbody tr th:only-of-type {\n",
       "        vertical-align: middle;\n",
       "    }\n",
       "\n",
       "    .dataframe tbody tr th {\n",
       "        vertical-align: top;\n",
       "    }\n",
       "\n",
       "    .dataframe thead th {\n",
       "        text-align: right;\n",
       "    }\n",
       "</style>\n",
       "<table border=\"1\" class=\"dataframe\">\n",
       "  <thead>\n",
       "    <tr style=\"text-align: right;\">\n",
       "      <th></th>\n",
       "      <th>Peptide</th>\n",
       "      <th>Protein</th>\n",
       "      <th>UniProt ID</th>\n",
       "      <th>Cell Line</th>\n",
       "    </tr>\n",
       "  </thead>\n",
       "  <tbody>\n",
       "    <tr>\n",
       "      <th>0</th>\n",
       "      <td>DLATALEQLLQAYPR</td>\n",
       "      <td>BID</td>\n",
       "      <td>sp|P55957|BID_HUMAN</td>\n",
       "      <td>K562</td>\n",
       "    </tr>\n",
       "    <tr>\n",
       "      <th>1</th>\n",
       "      <td>DLATALEQLLQAYPR</td>\n",
       "      <td>BID</td>\n",
       "      <td>sp|P55957|BID_HUMAN</td>\n",
       "      <td>MLLtx</td>\n",
       "    </tr>\n",
       "    <tr>\n",
       "      <th>2</th>\n",
       "      <td>DVFHTTVNFINQNLR</td>\n",
       "      <td>BID</td>\n",
       "      <td>sp|P55957|BID_HUMAN</td>\n",
       "      <td>K562</td>\n",
       "    </tr>\n",
       "    <tr>\n",
       "      <th>3</th>\n",
       "      <td>EAGDEFELR</td>\n",
       "      <td>B2CL1</td>\n",
       "      <td>sp|Q07817|B2CL1_HUMAN</td>\n",
       "      <td>MLLtx</td>\n",
       "    </tr>\n",
       "    <tr>\n",
       "      <th>4</th>\n",
       "      <td>EAGDEFELR</td>\n",
       "      <td>B2CL1</td>\n",
       "      <td>sp|Q07817|B2CL1_HUMAN</td>\n",
       "      <td>MM1S</td>\n",
       "    </tr>\n",
       "    <tr>\n",
       "      <th>...</th>\n",
       "      <td>...</td>\n",
       "      <td>...</td>\n",
       "      <td>...</td>\n",
       "      <td>...</td>\n",
       "    </tr>\n",
       "    <tr>\n",
       "      <th>63</th>\n",
       "      <td>VARPPPIGAEVPDVTATPAR</td>\n",
       "      <td>MCL1</td>\n",
       "      <td>sp|Q07820|MCL1_HUMAN</td>\n",
       "      <td>MLLtx</td>\n",
       "    </tr>\n",
       "    <tr>\n",
       "      <th>64</th>\n",
       "      <td>VARPPPIGAEVPDVTATPAR</td>\n",
       "      <td>MCL1</td>\n",
       "      <td>sp|Q07820|MCL1_HUMAN</td>\n",
       "      <td>MM1S</td>\n",
       "    </tr>\n",
       "    <tr>\n",
       "      <th>65</th>\n",
       "      <td>VMIHVFSDGVTNWGR</td>\n",
       "      <td>MCL1</td>\n",
       "      <td>sp|Q07820|MCL1_HUMAN</td>\n",
       "      <td>MM1S</td>\n",
       "    </tr>\n",
       "    <tr>\n",
       "      <th>66</th>\n",
       "      <td>VVALFYFASK</td>\n",
       "      <td>BAX</td>\n",
       "      <td>sp|Q07812|BAX_HUMAN</td>\n",
       "      <td>MLLtx</td>\n",
       "    </tr>\n",
       "    <tr>\n",
       "      <th>67</th>\n",
       "      <td>VVALFYFASK</td>\n",
       "      <td>BAX</td>\n",
       "      <td>sp|Q07812|BAX_HUMAN</td>\n",
       "      <td>MM1S</td>\n",
       "    </tr>\n",
       "  </tbody>\n",
       "</table>\n",
       "<p>68 rows × 4 columns</p>\n",
       "</div>"
      ],
      "text/plain": [
       "                 Peptide Protein             UniProt ID Cell Line\n",
       "0        DLATALEQLLQAYPR     BID    sp|P55957|BID_HUMAN      K562\n",
       "1        DLATALEQLLQAYPR     BID    sp|P55957|BID_HUMAN     MLLtx\n",
       "2        DVFHTTVNFINQNLR     BID    sp|P55957|BID_HUMAN      K562\n",
       "3              EAGDEFELR   B2CL1  sp|Q07817|B2CL1_HUMAN     MLLtx\n",
       "4              EAGDEFELR   B2CL1  sp|Q07817|B2CL1_HUMAN      MM1S\n",
       "..                   ...     ...                    ...       ...\n",
       "63  VARPPPIGAEVPDVTATPAR    MCL1   sp|Q07820|MCL1_HUMAN     MLLtx\n",
       "64  VARPPPIGAEVPDVTATPAR    MCL1   sp|Q07820|MCL1_HUMAN      MM1S\n",
       "65       VMIHVFSDGVTNWGR    MCL1   sp|Q07820|MCL1_HUMAN      MM1S\n",
       "66            VVALFYFASK     BAX    sp|Q07812|BAX_HUMAN     MLLtx\n",
       "67            VVALFYFASK     BAX    sp|Q07812|BAX_HUMAN      MM1S\n",
       "\n",
       "[68 rows x 4 columns]"
      ]
     },
     "execution_count": 122,
     "metadata": {},
     "output_type": "execute_result"
    }
   ],
   "source": [
    "filtered_df"
   ]
  },
  {
   "cell_type": "code",
   "execution_count": 123,
   "metadata": {},
   "outputs": [
    {
     "data": {
      "text/plain": [
       "BAX      25\n",
       "MCL1     15\n",
       "B2CL1     9\n",
       "BID       9\n",
       "BCL2      8\n",
       "BOK       2\n",
       "Name: Protein, dtype: int64"
      ]
     },
     "execution_count": 123,
     "metadata": {},
     "output_type": "execute_result"
    }
   ],
   "source": [
    "filtered_df[\"Protein\"].value_counts()"
   ]
  },
  {
   "cell_type": "code",
   "execution_count": 124,
   "metadata": {},
   "outputs": [],
   "source": [
    "filtered_df.to_csv(\"../data/mitochondria_proteins.csv\")"
   ]
  },
  {
   "cell_type": "code",
   "execution_count": null,
   "metadata": {},
   "outputs": [],
   "source": []
  }
 ],
 "metadata": {
  "kernelspec": {
   "display_name": "talus_data_analysis",
   "language": "python",
   "name": "talus_data_analysis"
  },
  "language_info": {
   "codemirror_mode": {
    "name": "ipython",
    "version": 3
   },
   "file_extension": ".py",
   "mimetype": "text/x-python",
   "name": "python",
   "nbconvert_exporter": "python",
   "pygments_lexer": "ipython3",
   "version": "3.8.5"
  }
 },
 "nbformat": 4,
 "nbformat_minor": 4
}
